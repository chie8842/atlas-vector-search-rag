{
 "cells": [
  {
   "cell_type": "code",
   "execution_count": null,
   "id": "805bbbfa-88fc-4719-8a7e-ded90398ad0f",
   "metadata": {},
   "outputs": [],
   "source": [
    "!pip install pymongo"
   ]
  },
  {
   "cell_type": "code",
   "execution_count": 1,
   "id": "8792c0fa-6cf0-4a18-b81b-9e3642b85142",
   "metadata": {},
   "outputs": [],
   "source": [
    "import pprint\n",
    "import re\n",
    "import requests\n",
    "import tarfile\n",
    "from datetime import datetime\n",
    "from glob import glob\n",
    "from pymongo import MongoClient\n",
    "import key_param"
   ]
  },
  {
   "cell_type": "code",
   "execution_count": 4,
   "id": "1421afa2-4848-4d46-924b-4998bfcdea31",
   "metadata": {},
   "outputs": [
    {
     "data": {
      "text/plain": [
       "<bound method TarFile.close of <tarfile.TarFile object at 0x10742b100>>"
      ]
     },
     "execution_count": 4,
     "metadata": {},
     "output_type": "execute_result"
    }
   ],
   "source": [
    "url = 'https://www.rondhuit.com/download/ldcc-20140209.tar.gz'\n",
    "target_path = 'ldcc-20140209.tar.gz'\n",
    "\n",
    "response = requests.get(url, stream=True)\n",
    "if response.status_code == 200:\n",
    "    with open(target_path, 'wb') as f:\n",
    "        f.write(response.raw.read())\n",
    "\n",
    "\n",
    "file = tarfile.open('ldcc-20140209.tar.gz')\n",
    "file.extractall()\n",
    "file.close"
   ]
  },
  {
   "cell_type": "code",
   "execution_count": 3,
   "id": "a65fb355-e910-4946-af13-9351ff3fdfb1",
   "metadata": {},
   "outputs": [],
   "source": [
    "topic_news_list = glob('./text/topic-news/[!LICENSE]*')\n",
    "data = []\n",
    "for i, news_file in enumerate(topic_news_list):\n",
    "    data.append({'url':'', 'datetime_of_topic': '', 'contents': ''})\n",
    "    data[i]['url']=''\n",
    "    data[i]['datetime_of_topic'] = ''\n",
    "    data[i]['title'] = ''\n",
    "    data[i]['contents'] = ''\n",
    "    data[i]['relative_articles'] = []\n",
    "    data[i]['relative_info'] = []\n",
    "    k=0\n",
    "    with open(topic_news_list[i]) as f:\n",
    "        for j, line in enumerate(f):\n",
    "            if j==0:\n",
    "                data[i]['url']=line.strip('\\n')\n",
    "            elif j==1:\n",
    "                data[i]['datetime_of_topic'] = datetime.strptime(line.strip('\\n'), '%Y-%m-%dT%H:%M:%S%z')\n",
    "            elif j==2:\n",
    "                data[i]['title'] = line.strip('\\n')\n",
    "            else:\n",
    "                if re.search(\"関連記事\", line):\n",
    "                    k=1\n",
    "                elif re.search(\"関連情報\", line):\n",
    "                    k=2\n",
    "                else:\n",
    "                    if k == 0:\n",
    "                        data[i]['contents'] = data[i]['contents'] + line\n",
    "                    elif k == 1:\n",
    "                        if line.strip('\\n') != '':\n",
    "                            data[i]['relative_articles'].append(line.strip('\\n'))\n",
    "                    elif k == 2:\n",
    "                        if line.strip('\\n') != '':\n",
    "                            data[i]['relative_info'].append(line.strip('\\n'))\n",
    "                \n",
    "                \n",
    "\n"
   ]
  },
  {
   "cell_type": "code",
   "execution_count": 7,
   "id": "da4f9f91-d1ea-49d7-a360-2799c03c205c",
   "metadata": {},
   "outputs": [
    {
     "data": {
      "text/plain": [
       "{'url': 'http://news.livedoor.com/article/detail/6601493/',\n",
       " 'datetime_of_topic': datetime.datetime(2012, 5, 28, 12, 55, tzinfo=datetime.timezone(datetime.timedelta(seconds=32400))),\n",
       " 'contents': '25日、母親の生活保護受給について謝罪会見を行ったお笑いコンビ「次長課長」の河本準一が、翌日ツイッター上でも改めて謝罪した。\\n\\nその発言を受け、お笑いコンビ「オリエンタルラジオ」の藤森慎吾が河本へ激励のコメントを送ったが、それを一般ユーザーが批判し、藤森もこれに応戦したため、ネット掲示板で大きな話題となった。\\n\\n発端は藤森が河本の謝罪に対して「笑わせてくれればいいです！」と激励のツイートをしたことに始まる。このコメントを見た一般ユーザーが「（河本の母親が生活保護受給していたことは）立派な詐欺なのによくこういうこと言えるね芸人って」とツイッター上で批判したが、藤森は「芸人全般に対する侮辱ですかー？謝罪はしたけど詐欺ではないでしょ。自分の発言に責任を持った方がうぃーねー！」と反論。\\n\\nさらに別のユーザーから「身勝手で無責任な事ほざくな。お前も社会人なら世の中に対する責任あるだろ」と指摘されると、「少なくともあなたよりは社会人としての自覚はあります。こういう公の場であなたのような乱暴で幼稚な言葉使いはしないからー」と返している。\\n\\n他にも、藤森は「ちょっとなにいってるかわかりましぇーーん！」「はいさようならー！ブロックー！」など、一般ユーザーに対して煽るような口調で返信したため、一連のやり取りが掲示板やツイッター上で広がると、ネットユーザーからは「藤森も黙ってりゃいいのに…なんでみんな自分からコメントしたがるのかね 」「芸人同士で擁護しあって、自分が不祥事起こしたときに擁護してもらおうという算段か」などと批判的な意見が相次いだが、中には「吉本芸人が先輩を批判できるわけないだろ」「芸人ってくくりで侮辱されたのがむかついたんだろうな」「ツイッターでもキャラ保ってるのは凄い」といった発言も見られた。\\n\\n',\n",
       " 'title': '河本の生活保護問題で、オリラジ・藤森がツイッターで騒動に',\n",
       " 'relative_articles': ['・片山さつき議員批判続々…杉村太蔵「お門違い」河口恭吾「アホかつーの」',\n",
       "  '・河本母親「世間が勘違い。悪いことは何もしていない」 ',\n",
       "  '・河本母の生活保護受給問題\\u3000全額返納なら1000万円に近いか',\n",
       "  '・「河本追及は人気取りで不必要」 宮台真司の片山さつき批判に賛否両論 ',\n",
       "  '・河本の姉が片山さつき氏に「後で謝ることになる」 ネットで物議'],\n",
       " 'relative_info': ['・河本の生保問題でオリラジ藤森がtwitterで発狂', '・河本の生活保護問題でオリラジ藤森が発狂ｗｗｗｗｗｗ'],\n",
       " '_id': ObjectId('65fa946fe936ef89be490dc1')}"
      ]
     },
     "execution_count": 7,
     "metadata": {},
     "output_type": "execute_result"
    }
   ],
   "source": [
    "data[0]"
   ]
  },
  {
   "cell_type": "code",
   "execution_count": null,
   "id": "8a8368f6-a6bf-4a8a-afaa-1e4fb417b945",
   "metadata": {},
   "outputs": [],
   "source": [
    "# js function for atlas trigger\n",
    "```\n",
    "exports = async function(changeEvent) {\n",
    "    // Get the full document from the change event.\n",
    "    const doc = changeEvent.fullDocument;\n",
    "\n",
    "    // Define the OpenAI API url and key.\n",
    "    const url = 'https://api.openai.com/v1/embeddings';\n",
    "    // Use the name you gave the value of your API key in the “Values” utility inside of App Services\n",
    "    const openai_key = context.values.get(\"openAIKey\");\n",
    "\n",
    "    try {\n",
    "        console.log(`Processing document with id: ${JSON.stringify(doc)}`);\n",
    "        \n",
    "\n",
    "        // Call OpenAI API to get the embeddings.\n",
    "        let response = await context.http.post({\n",
    "            url: url,\n",
    "             headers: {\n",
    "                'Authorization': [`Bearer ${openai_key}`],\n",
    "                'Content-Type': ['application/json']\n",
    "            },\n",
    "            body: JSON.stringify({\n",
    "                input: `${doc.title} - ${doc.contents}`,\n",
    "                model: \"text-embedding-ada-002\"\n",
    "            })\n",
    "        });\n",
    "\n",
    "        // Parse the JSON response\n",
    "        let responseData = EJSON.parse(response.body.text());\n",
    "\n",
    "        // Check the response status.\n",
    "        if(response.statusCode === 200) {\n",
    "            console.log(\"Successfully received embedding.\");\n",
    "\n",
    "            const embedding = responseData.data[0].embedding;\n",
    "\n",
    "            // Get the cluster in MongoDB Atlas.\n",
    "            const mongodb = context.services.get('mongodb-atlas');\n",
    "            const db = mongodb.db('livedoor_news'); // Replace with your database name.\n",
    "            const collection = db.collection('topic_news'); // Replace with your collection name.\n",
    "\n",
    "            // Update the document in MongoDB.\n",
    "            const result = await collection.updateOne(\n",
    "                { _id: doc._id },\n",
    "                // The name of the new field you’d like to contain your embeddings.\n",
    "                { $set: { embeddings: embedding }}\n",
    "            );\n",
    "\n",
    "            if(result.modifiedCount === 1) {\n",
    "                console.log(\"Successfully updated the document.\");\n",
    "                \n",
    "                \n",
    "            } else {\n",
    "                console.log(\"Failed to update the document.\");\n",
    "            }\n",
    "        } else {\n",
    "            console.log(`Failed to receive embedding. Status code: ${response.body.text()}`);\n",
    "        }\n",
    "\n",
    "    } catch(err) {\n",
    "        console.error(err);\n",
    "    }\n",
    "};\n",
    "```"
   ]
  },
  {
   "cell_type": "code",
   "execution_count": 6,
   "id": "a2893d06-da95-4fd0-b18e-b11c20e51449",
   "metadata": {},
   "outputs": [
    {
     "name": "stdout",
     "output_type": "stream",
     "text": [
      "770 documents are inserted\n"
     ]
    }
   ],
   "source": [
    "client = MongoClient(key_param.MONGO_URI)\n",
    "db = client['livedoor_news']\n",
    "collection = db['topic_news']\n",
    "\n",
    "if collection.count_documents({}) != 0:\n",
    "    collection.delete_many({})\n",
    "\n",
    "result = collection.insert_many(data)\n",
    "print(f'{len(result.inserted_ids)} documents are inserted')"
   ]
  },
  {
   "cell_type": "code",
   "execution_count": null,
   "id": "f5ab13b3-0222-4d46-9d9c-d645af3bbc68",
   "metadata": {},
   "outputs": [],
   "source": [
    "# 注：この先に進む前にAtlas UIでlangchain_demo.collection_of_text_blobsコレクションに対して\n",
    "# 以下のVector Searchのインデックスを作成する\n",
    "\n",
    "#index名: topic_news_openai\n",
    "\n",
    "'''\n",
    "{\n",
    "  \"fields\": [{\n",
    "    \"path\": \"embeddings\",\n",
    "    \"numDimensions\": 1536,\n",
    "    \"similarity\": \"cosine\",\n",
    "    \"type\": \"vector\"\n",
    "  }]\n",
    "}\n",
    "'''"
   ]
  }
 ],
 "metadata": {
  "kernelspec": {
   "display_name": "Python 3 (ipykernel)",
   "language": "python",
   "name": "python3"
  },
  "language_info": {
   "codemirror_mode": {
    "name": "ipython",
    "version": 3
   },
   "file_extension": ".py",
   "mimetype": "text/x-python",
   "name": "python",
   "nbconvert_exporter": "python",
   "pygments_lexer": "ipython3",
   "version": "3.10.13"
  }
 },
 "nbformat": 4,
 "nbformat_minor": 5
}
